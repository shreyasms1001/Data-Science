{
 "cells": [
  {
   "cell_type": "code",
   "execution_count": null,
   "metadata": {},
   "outputs": [],
   "source": [
    "import sqlite3\n",
    "import pandas as pd\n",
    "import warnings\n",
    "warnings.filterwarnings('ignore')"
   ]
  },
  {
   "cell_type": "code",
   "execution_count": null,
   "metadata": {},
   "outputs": [
    {
     "data": {
      "text/plain": [
       "Data from the SQLite table:\n",
       "   id  ... institution_rank\n",
       "0   1  ...                1\n",
       "1   2  ...                1\n",
       "2   3  ...                1\n",
       "3   4  ...                1\n",
       "4   5  ...                1\n",
       "\n",
       "[5 rows x 12 columns]\n"
      ]
     },
     "metadata": {},
     "output_type": "display_data"
    }
   ],
   "source": [
    "# Connect to the SQLite database\n",
    "db_path = \"mapped_data.db\"  # Replace with your database file path\n",
    "conn = sqlite3.connect(db_path)\n",
    "\n",
    "# Query to fetch data\n",
    "query = \"SELECT * from student_institution_mappings;\"  # Replace 'students' with your table name\n",
    "\n",
    "# Load data into a Pandas DataFrame\n",
    "df = pd.read_sql_query(query, conn)\n",
    "\n",
    "# Close the connection\n",
    "conn.close()\n",
    "\n",
    "# Display the first few rows of the DataFrame\n",
    "print(\"Data from the SQLite table:\")\n",
    "print(df.head())  # Use print() instead of display() for standard Python environments\n",
    "\n"
   ]
  },
  {
   "cell_type": "code",
   "execution_count": null,
   "metadata": {},
   "outputs": [
    {
     "data": {
      "text/plain": [
       "    id  ... institution_rank\n",
       "0    1  ...                1\n",
       "1    2  ...                1\n",
       "2    3  ...                1\n",
       "3    4  ...                1\n",
       "4    5  ...                1\n",
       "5    6  ...                1\n",
       "6    7  ...                2\n",
       "7    8  ...                2\n",
       "8    9  ...                2\n",
       "9   10  ...                2\n",
       "10  11  ...                2\n",
       "11  12  ...                2\n",
       "\n",
       "[12 rows x 12 columns]\n"
      ]
     },
     "metadata": {},
     "output_type": "display_data"
    }
   ],
   "source": [
    "print(df[0:12])"
   ]
  },
  {
   "cell_type": "code",
   "execution_count": null,
   "metadata": {},
   "outputs": [
    {
     "data": {
      "text/plain": [
       "(600, 12)\n"
      ]
     },
     "metadata": {},
     "output_type": "display_data"
    }
   ],
   "source": [
    "df.shape"
   ]
  },
  {
   "cell_type": "code",
   "execution_count": null,
   "metadata": {},
   "outputs": [
    {
     "data": {
      "text/plain": [
       "<class 'pandas.core.frame.DataFrame'>\n",
       "RangeIndex: 600 entries, 0 to 599\n",
       "Data columns (total 12 columns):\n",
       " #   Column                 Non-Null Count  Dtype  \n",
       "---  ------                 --------------  -----  \n",
       " 0   id                     600 non-null    int64  \n",
       " 1   student_name           600 non-null    object \n",
       " 2   cgpa                   600 non-null    float64\n",
       " 3   project_score          600 non-null    float64\n",
       " 4   internships            600 non-null    int64  \n",
       " 5   extracurricular_score  600 non-null    float64\n",
       " 6   total_score            600 non-null    float64\n",
       " 7   department             600 non-null    object \n",
       " 8   field                  600 non-null    object \n",
       " 9   outcome                600 non-null    object \n",
       " 10  institution_name       600 non-null    object \n",
       " 11  institution_rank       600 non-null    int64  \n",
       "dtypes: float64(4), int64(3), object(5)\n",
       "memory usage: 56.4+ KB\n"
      ]
     },
     "metadata": {},
     "output_type": "display_data"
    }
   ],
   "source": [
    "df.info()\n"
   ]
  },
  {
   "cell_type": "code",
   "execution_count": null,
   "metadata": {},
   "outputs": [
    {
     "data": {
      "text/plain": [
       "id                       0\n",
       "student_name             0\n",
       "cgpa                     0\n",
       "project_score            0\n",
       "internships              0\n",
       "extracurricular_score    0\n",
       "total_score              0\n",
       "department               0\n",
       "field                    0\n",
       "outcome                  0\n",
       "institution_name         0\n",
       "institution_rank         0\n",
       "dtype: int64\n"
      ]
     },
     "metadata": {},
     "output_type": "display_data"
    }
   ],
   "source": [
    "df.isnull().sum()\n"
   ]
  },
  {
   "cell_type": "code",
   "execution_count": null,
   "metadata": {},
   "outputs": [
    {
     "data": {
      "text/plain": [
       "               id        cgpa  ...  total_score  institution_rank\n",
       "count  600.000000  600.000000  ...   600.000000        600.000000\n",
       "mean   300.500000    7.959567  ...   258.600100         50.490000\n",
       "std    173.349358    1.153797  ...    32.769352         28.885299\n",
       "min      1.000000    6.000000  ...   178.200000          1.000000\n",
       "25%    150.750000    6.957500  ...   233.390000         25.750000\n",
       "50%    300.500000    7.930000  ...   257.660000         50.500000\n",
       "75%    450.250000    9.012500  ...   284.295000         75.250000\n",
       "max    600.000000   10.000000  ...   337.200000        100.000000\n",
       "\n",
       "[8 rows x 7 columns]\n"
      ]
     },
     "metadata": {},
     "output_type": "display_data"
    }
   ],
   "source": [
    "df.describe()\n"
   ]
  },
  {
   "cell_type": "code",
   "execution_count": null,
   "metadata": {},
   "outputs": [
    {
     "data": {
      "text/plain": [
       "Index(['id', 'student_name', 'cgpa', 'project_score', 'internships',\n",
       "       'extracurricular_score', 'total_score', 'department', 'field',\n",
       "       'outcome', 'institution_name', 'institution_rank'],\n",
       "      dtype='object')\n"
      ]
     },
     "metadata": {},
     "output_type": "display_data"
    }
   ],
   "source": [
    "df.columns"
   ]
  },
  {
   "cell_type": "code",
   "execution_count": null,
   "metadata": {},
   "outputs": [
    {
     "data": {
      "text/plain": [
       "['Selected' 'No Offer' 'Rejected']\n"
      ]
     },
     "metadata": {},
     "output_type": "display_data"
    }
   ],
   "source": [
    "df['outcome'].unique()"
   ]
  },
  {
   "cell_type": "code",
   "execution_count": null,
   "metadata": {},
   "outputs": [
    {
     "data": {
      "text/plain": [
       "outcome\n",
       "Selected    265\n",
       "Rejected    249\n",
       "No Offer     86\n",
       "Name: count, dtype: int64\n"
      ]
     },
     "metadata": {},
     "output_type": "display_data"
    }
   ],
   "source": [
    "df['outcome'].value_counts()"
   ]
  },
  {
   "cell_type": "code",
   "execution_count": null,
   "metadata": {},
   "outputs": [
    {
     "data": {
      "text/plain": [
       "     cgpa  project_score  internships  ...        department   field   outcome\n",
       "0    9.99           99.9            3  ...  Computer Science      IT  Selected\n",
       "1    9.39           99.9            2  ...        Mechanical  Non-IT  Selected\n",
       "2    8.59           97.0            2  ...  Computer Science      IT  No Offer\n",
       "3    9.85           99.4            2  ...        Mechanical  Non-IT  Selected\n",
       "4    8.66           98.7            3  ...             Civil  Non-IT  No Offer\n",
       "..    ...            ...          ...  ...               ...     ...       ...\n",
       "595  6.67           53.7            3  ...  Computer Science      IT  Selected\n",
       "596  8.82           50.2            1  ...        Mechanical  Non-IT  Rejected\n",
       "597  6.50           50.2            2  ...       Electronics      IT  Selected\n",
       "598  7.23           52.7            0  ...        Electrical  Non-IT  Rejected\n",
       "599  6.30           54.4            0  ...        Electrical  Non-IT  Rejected\n",
       "\n",
       "[600 rows x 8 columns]\n"
      ]
     },
     "metadata": {},
     "output_type": "display_data"
    }
   ],
   "source": [
    "df = df.drop(['id', 'student_name','institution_name','institution_rank'],axis=1)"
   ]
  },
  {
   "cell_type": "code",
   "execution_count": null,
   "metadata": {},
   "outputs": [
    {
     "data": {
      "text/plain": [
       "['Civil' 'Electrical' 'Computer Science' 'Mechanical' 'Electronics']\n"
      ]
     },
     "metadata": {},
     "output_type": "display_data"
    }
   ],
   "source": [
    "df['department'].unique()"
   ]
  },
  {
   "cell_type": "code",
   "execution_count": null,
   "metadata": {},
   "outputs": [
    {
     "data": {
      "text/plain": [
       "0      0\n",
       "1      2\n",
       "2      0\n",
       "3      2\n",
       "4      3\n",
       "      ..\n",
       "595    0\n",
       "596    2\n",
       "597    1\n",
       "598    4\n",
       "599    4\n",
       "Name: department, Length: 600, dtype: int64\n"
      ]
     },
     "metadata": {},
     "output_type": "display_data"
    }
   ],
   "source": [
    "df['department'] = df['department'].map({'Computer Science':0, 'Mechanical':2, 'Civil':3, 'Electrical':4, 'Electronics':1})"
   ]
  },
  {
   "cell_type": "code",
   "execution_count": null,
   "metadata": {},
   "outputs": [
    {
     "data": {
      "text/plain": [
       "['Non-IT' 'IT']\n"
      ]
     },
     "metadata": {},
     "output_type": "display_data"
    }
   ],
   "source": [
    "df['field'].unique()"
   ]
  },
  {
   "cell_type": "code",
   "execution_count": null,
   "metadata": {},
   "outputs": [
    {
     "data": {
      "text/plain": [
       "0      0\n",
       "1      1\n",
       "2      0\n",
       "3      1\n",
       "4      1\n",
       "      ..\n",
       "595    0\n",
       "596    1\n",
       "597    0\n",
       "598    1\n",
       "599    1\n",
       "Name: field, Length: 600, dtype: int64\n"
      ]
     },
     "metadata": {},
     "output_type": "display_data"
    }
   ],
   "source": [
    "df['field'] = df['field'].map({'IT':0, 'Non-IT':1})"
   ]
  },
  {
   "cell_type": "code",
   "execution_count": null,
   "metadata": {},
   "outputs": [
    {
     "data": {
      "text/plain": [
       "['Selected' 'No Offer' 'Rejected']\n"
      ]
     },
     "metadata": {},
     "output_type": "display_data"
    }
   ],
   "source": [
    "df['outcome'].unique()"
   ]
  },
  {
   "cell_type": "code",
   "execution_count": null,
   "metadata": {},
   "outputs": [
    {
     "data": {
      "text/plain": [
       "0      0\n",
       "1      0\n",
       "2      2\n",
       "3      0\n",
       "4      2\n",
       "      ..\n",
       "595    0\n",
       "596    1\n",
       "597    0\n",
       "598    1\n",
       "599    1\n",
       "Name: outcome, Length: 600, dtype: int64\n"
      ]
     },
     "metadata": {},
     "output_type": "display_data"
    }
   ],
   "source": [
    "df['outcome'] = df['outcome'].map({'Selected':0, 'No Offer':2, 'Rejected':1})"
   ]
  },
  {
   "cell_type": "code",
   "execution_count": null,
   "metadata": {},
   "outputs": [
    {
     "data": {
      "text/plain": [
       "Index(['cgpa', 'project_score', 'internships', 'extracurricular_score',\n",
       "       'total_score', 'department', 'field', 'outcome'],\n",
       "      dtype='object')\n"
      ]
     },
     "metadata": {},
     "output_type": "display_data"
    }
   ],
   "source": [
    "df.columns"
   ]
  },
  {
   "cell_type": "code",
   "execution_count": null,
   "metadata": {},
   "outputs": [],
   "source": [
    "X = df.drop('outcome',axis=1)\n",
    "y = df['outcome']"
   ]
  },
  {
   "cell_type": "code",
   "execution_count": null,
   "metadata": {},
   "outputs": [
    {
     "data": {
      "text/plain": [
       "      cgpa  project_score  internships  ...  total_score  department  field\n",
       "0    10.00           98.4            1  ...       337.20           3      1\n",
       "1     9.81           98.6            0  ...       334.94           4      1\n",
       "2     9.26           97.4            1  ...       333.04           0      0\n",
       "3     8.15           99.1            2  ...       327.10           3      1\n",
       "4     6.44           99.9            1  ...       325.56           4      1\n",
       "..     ...            ...          ...  ...          ...         ...    ...\n",
       "595   7.13           53.6            1  ...       189.72           2      1\n",
       "596   6.91           50.5            0  ...       188.54           2      1\n",
       "597   6.73           50.1            1  ...       188.02           2      1\n",
       "598   7.26           51.2            2  ...       186.64           0      0\n",
       "599   6.40           50.5            1  ...       178.20           0      0\n",
       "\n",
       "[600 rows x 7 columns]\n"
      ]
     },
     "metadata": {},
     "output_type": "display_data"
    }
   ],
   "source": [
    "X"
   ]
  },
  {
   "cell_type": "code",
   "execution_count": null,
   "metadata": {},
   "outputs": [],
   "source": [
    "from sklearn.model_selection import train_test_split"
   ]
  },
  {
   "cell_type": "code",
   "execution_count": null,
   "metadata": {},
   "outputs": [],
   "source": [
    "X_train, X_test, y_train, y_test = train_test_split(X, y, test_size=0.20, random_state=42)  # 80% training, 20% test"
   ]
  },
  {
   "cell_type": "code",
   "execution_count": null,
   "metadata": {},
   "outputs": [
    {
     "data": {
      "text/plain": [
       "    cgpa  project_score  internships  ...  total_score  department  field\n",
       "0  10.00           98.4            1  ...       337.20           3      1\n",
       "1   9.81           98.6            0  ...       334.94           4      1\n",
       "2   9.26           97.4            1  ...       333.04           0      0\n",
       "3   8.15           99.1            2  ...       327.10           3      1\n",
       "4   6.44           99.9            1  ...       325.56           4      1\n",
       "\n",
       "[5 rows x 7 columns]\n"
      ]
     },
     "metadata": {},
     "output_type": "display_data"
    }
   ],
   "source": [
    "X.head()"
   ]
  },
  {
   "cell_type": "code",
   "execution_count": null,
   "metadata": {},
   "outputs": [],
   "source": [
    "from sklearn.linear_model import LogisticRegression\n",
    "from sklearn.neighbors import KNeighborsClassifier\n",
    "from sklearn import svm \n",
    "from sklearn.tree import DecisionTreeClassifier\n",
    "from sklearn.ensemble import RandomForestClassifier\n",
    "from sklearn.ensemble import GradientBoostingClassifier"
   ]
  },
  {
   "cell_type": "code",
   "execution_count": null,
   "metadata": {},
   "outputs": [],
   "source": [
    "lr = LogisticRegression()\n",
    "lr.fit(X_train,y_train)\n",
    "\n",
    "svm = svm.SVC()\n",
    "svm.fit(X_train,y_train)\n",
    "\n",
    "knn = KNeighborsClassifier()\n",
    "knn.fit(X_train,y_train)\n",
    "\n",
    "dt = DecisionTreeClassifier()\n",
    "dt.fit(X_train,y_train)\n",
    "\n",
    "rf = RandomForestClassifier()\n",
    "rf.fit(X_train,y_train)\n",
    "\n",
    "gb = GradientBoostingClassifier()\n",
    "gb.fit(X_train,y_train)"
   ]
  },
  {
   "cell_type": "code",
   "execution_count": null,
   "metadata": {},
   "outputs": [],
   "source": [
    "y_pred1 = lr.predict(X_test)\n",
    "y_pred2 = svm.predict(X_test)\n",
    "y_pred3 = knn.predict(X_test)\n",
    "y_pred4 = dt.predict(X_test)\n",
    "y_pred5 = rf.predict(X_test)\n",
    "y_pred6 = gb.predict(X_test)"
   ]
  },
  {
   "cell_type": "code",
   "execution_count": null,
   "metadata": {},
   "outputs": [],
   "source": [
    "from sklearn.metrics import accuracy_score"
   ]
  },
  {
   "cell_type": "code",
   "execution_count": null,
   "metadata": {},
   "outputs": [],
   "source": [
    "score1 = accuracy_score(y_test,y_pred1)\n",
    "score2 = accuracy_score(y_test,y_pred2)\n",
    "score3 = accuracy_score(y_test,y_pred3)\n",
    "score4 = accuracy_score(y_test,y_pred4)\n",
    "score5 = accuracy_score(y_test,y_pred5)\n",
    "score6 = accuracy_score(y_test,y_pred6)"
   ]
  },
  {
   "cell_type": "code",
   "execution_count": null,
   "metadata": {},
   "outputs": [
    {
     "data": {
      "text/plain": [
       "0.4583333333333333 0.525 0.49166666666666664 0.45 0.4666666666666667 0.4583333333333333\n"
      ]
     },
     "metadata": {},
     "output_type": "display_data"
    }
   ],
   "source": [
    "print(score1,score2,score3,score4,score5,score6)"
   ]
  },
  {
   "cell_type": "code",
   "execution_count": null,
   "metadata": {},
   "outputs": [],
   "source": [
    "final_data = pd.DataFrame({'Models':['LR','SVC','KNN','DT','RF','GB'],\n",
    "            'ACC':[score1*100,\n",
    "                   score2*100,\n",
    "                   score3*100,\n",
    "                   score4*100,\n",
    "                   score5*100,\n",
    "                   score6*100]})"
   ]
  },
  {
   "cell_type": "code",
   "execution_count": null,
   "metadata": {},
   "outputs": [
    {
     "data": {
      "text/plain": [
       "  Models        ACC\n",
       "0     LR  45.833333\n",
       "1    SVC  52.500000\n",
       "2    KNN  49.166667\n",
       "3     DT  45.000000\n",
       "4     RF  46.666667\n",
       "5     GB  45.833333\n"
      ]
     },
     "metadata": {},
     "output_type": "display_data"
    }
   ],
   "source": [
    "final_data"
   ]
  },
  {
   "cell_type": "code",
   "execution_count": null,
   "metadata": {},
   "outputs": [],
   "source": [
    "import seaborn as sns\n",
    "import matplotlib.pyplot as plt"
   ]
  },
  {
   "cell_type": "code",
   "execution_count": null,
   "metadata": {},
   "outputs": [
    {
     "data": {
      "text/plain": [
       "Axes(0.125,0.11;0.775x0.77)\n"
      ]
     },
     "metadata": {},
     "output_type": "display_data"
    }
   ],
   "source": [
    "sns.barplot(x='Models', y='ACC', data=final_data)\n",
    "plt.show()"
   ]
  },
  {
   "cell_type": "code",
   "execution_count": null,
   "metadata": {},
   "outputs": [],
   "source": [
    "gb = GradientBoostingClassifier()\n",
    "gb.fit(X,y)"
   ]
  },
  {
   "cell_type": "code",
   "execution_count": null,
   "metadata": {},
   "outputs": [],
   "source": [
    "new_data = pd.DataFrame({\n",
    "    'cgpa':9.1,\n",
    "    'project_score':95,\n",
    "    'internships':1,\n",
    "    'extracurricular_score':82,\n",
    "    'total_score':312,\n",
    "    'department':0,\n",
    "    'field':0,\n",
    "},index=[0])"
   ]
  },
  {
   "cell_type": "code",
   "execution_count": null,
   "metadata": {},
   "outputs": [
    {
     "data": {
      "text/plain": [
       "Selected\n",
       "You will be Selected with probability of 0.80\n"
      ]
     },
     "metadata": {},
     "output_type": "display_data"
    }
   ],
   "source": [
    "p = gb.predict(new_data)\n",
    "prob = gb.predict_proba(new_data)[0]\n",
    "if p==0:\n",
    "    print('Selected')\n",
    "    print(f\"You will be Selected with probability of {prob[0]:.2f}\")\n",
    "elif p==1:\n",
    "    print('Rejected')\n",
    "else:\n",
    "    print('No offer')"
   ]
  },
  {
   "cell_type": "code",
   "execution_count": null,
   "metadata": {},
   "outputs": [
    {
     "data": {
      "text/plain": [
       "[0.8019188  0.17277702 0.02530417]\n"
      ]
     },
     "metadata": {},
     "output_type": "display_data"
    }
   ],
   "source": [
    "prob"
   ]
  },
  {
   "cell_type": "code",
   "execution_count": null,
   "metadata": {},
   "outputs": [],
   "source": [
    "import joblib"
   ]
  },
  {
   "cell_type": "code",
   "execution_count": null,
   "metadata": {},
   "outputs": [
    {
     "data": {
      "text/plain": [
       "['model_placement_prediction']\n"
      ]
     },
     "metadata": {},
     "output_type": "display_data"
    }
   ],
   "source": [
    "joblib.dump(gb,'model_placement_prediction')"
   ]
  },
  {
   "cell_type": "code",
   "execution_count": null,
   "metadata": {},
   "outputs": [],
   "source": [
    "model = joblib.load('model_placement_prediction')"
   ]
  },
  {
   "cell_type": "code",
   "execution_count": null,
   "metadata": {},
   "outputs": [
    {
     "data": {
      "text/plain": [
       "[0]\n"
      ]
     },
     "metadata": {},
     "output_type": "display_data"
    }
   ],
   "source": [
    "model.predict(new_data)"
   ]
  }
 ],
 "metadata": {
  "language_info": {
   "name": "python"
  }
 },
 "nbformat": 4,
 "nbformat_minor": 2
}
